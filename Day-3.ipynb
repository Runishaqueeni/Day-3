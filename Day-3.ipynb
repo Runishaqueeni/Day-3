{
 "cells": [
  {
   "cell_type": "code",
   "execution_count": 18,
   "id": "9ff9d0ff-f908-4384-9435-21ba3f4e1776",
   "metadata": {},
   "outputs": [
    {
     "name": "stdout",
     "output_type": "stream",
     "text": [
      "Sum of even numbers from 1 to 50: 25\n"
     ]
    }
   ],
   "source": [
    "#for loop\n",
    "total = 0\n",
    "for i in range(1,51):\n",
    "    if i % 2==0:      #check even number\n",
    "        total+=1\n",
    "\n",
    "print(\"Sum of even numbers from 1 to 50:\",total)"
   ]
  },
  {
   "cell_type": "code",
   "execution_count": 19,
   "id": "7c3e3826-b963-425b-a5ae-4f64abfac0cc",
   "metadata": {},
   "outputs": [
    {
     "name": "stdout",
     "output_type": "stream",
     "text": [
      "Sorted list: [1, 2, 3, 5, 6, 8]\n",
      "maximun value: 8\n",
      "minimum value: 1\n"
     ]
    }
   ],
   "source": [
    "#list\n",
    "numbers=[2,5,8,1,6,3]\n",
    "\n",
    "#sort ascending\n",
    "numbers.sort()\n",
    "print(\"Sorted list:\",numbers)\n",
    "\n",
    "#max and min\n",
    "print(\"maximun value:\",max(numbers))\n",
    "print(\"minimum value:\",min(numbers))"
   ]
  },
  {
   "cell_type": "code",
   "execution_count": 20,
   "id": "8f53558b-6e8e-4a6f-ac4d-0bd90c46a732",
   "metadata": {},
   "outputs": [
    {
     "name": "stdout",
     "output_type": "stream",
     "text": [
      "Second element: 20\n",
      "Fourth element: 40\n",
      "Length of tuple: 5\n"
     ]
    }
   ],
   "source": [
    "#tuple\n",
    "nums=(10,20,30,40,50)\n",
    "\n",
    "#2nd and 4th elements\n",
    "print(\"Second element:\",nums[1])    #index start from 0\n",
    "print(\"Fourth element:\",nums[3])\n",
    "\n",
    "#length\n",
    "print(\"Length of tuple:\",len(nums))"
   ]
  },
  {
   "cell_type": "code",
   "execution_count": 21,
   "id": "2bfb0b0f-7bbb-4abf-a0e6-17f31cdd60ce",
   "metadata": {},
   "outputs": [
    {
     "name": "stdout",
     "output_type": "stream",
     "text": [
      "Topper: Sam\n"
     ]
    }
   ],
   "source": [
    "#dictionary\n",
    "students={\"Ram\":78,\"Sam\":85,\"Ravi\":66}\n",
    "\n",
    "#find student with highest marks\n",
    "topper=max(students,key=students.get)\n",
    "print(\"Topper:\",topper)"
   ]
  },
  {
   "cell_type": "code",
   "execution_count": 23,
   "id": "577cd0a3-95e6-4a73-9e5f-9a51d0212d2e",
   "metadata": {},
   "outputs": [
    {
     "name": "stdin",
     "output_type": "stream",
     "text": [
      "Enter a number: 5\n"
     ]
    },
    {
     "name": "stdout",
     "output_type": "stream",
     "text": [
      "5 x 1 = 5\n",
      "5 x 2 = 10\n",
      "5 x 3 = 15\n",
      "5 x 4 = 20\n",
      "5 x 5 = 25\n",
      "5 x 6 = 30\n",
      "5 x 7 = 35\n",
      "5 x 8 = 40\n",
      "5 x 9 = 45\n",
      "5 x 10 = 50\n"
     ]
    }
   ],
   "source": [
    "# for loop with range\n",
    "num=int(input(\"Enter a number:\"))\n",
    "\n",
    "for i in range(1,11):\n",
    "    print(num,\"x\",i,\"=\",num*i)"
   ]
  },
  {
   "cell_type": "code",
   "execution_count": 24,
   "id": "c1536863-f7e0-419f-b169-24f67b65f392",
   "metadata": {},
   "outputs": [
    {
     "name": "stdin",
     "output_type": "stream",
     "text": [
      "Enter a value: 2\n",
      "Enter a value: 3\n",
      "Enter a value: 4\n",
      "Enter a value: 5\n",
      "Enter a value: 6\n"
     ]
    },
    {
     "name": "stdout",
     "output_type": "stream",
     "text": [
      "List after inputs: ['2', '3', '4', '5', '6']\n",
      "Updated list: ['2', '3', '4', '5']\n"
     ]
    }
   ],
   "source": [
    "#list(append and remove)\n",
    "my_list=[]\n",
    "\n",
    "#append 5 user inputs\n",
    "for i in range(5):\n",
    "    val=input(\"Enter a value:\")\n",
    "    my_list.append(val)\n",
    "\n",
    "print(\"List after inputs:\",my_list)\n",
    "\n",
    "#remove last value\n",
    "my_list.pop()\n",
    "print(\"Updated list:\",my_list)"
   ]
  },
  {
   "cell_type": "code",
   "execution_count": 25,
   "id": "93d8d8f4-a60b-464e-a7b6-a14db3a95dc3",
   "metadata": {},
   "outputs": [
    {
     "name": "stdout",
     "output_type": "stream",
     "text": [
      "union: {1, 2, 3, 4, 5, 6}\n",
      "intersection: {3, 4}\n"
     ]
    }
   ],
   "source": [
    "#set\n",
    "set1={1,2,3,4}\n",
    "set2={3,4,5,6}\n",
    "\n",
    "print(\"union:\",set1 | set2)   #or\n",
    "print(\"intersection:\",set1 & set2)  #and"
   ]
  },
  {
   "cell_type": "code",
   "execution_count": 14,
   "id": "48313c6f-0e62-4abb-be12-4ba3d279633c",
   "metadata": {},
   "outputs": [
    {
     "name": "stdout",
     "output_type": "stream",
     "text": [
      "Ram : 78\n",
      "Sam : 85\n",
      "Ravi : 66\n"
     ]
    }
   ],
   "source": [
    "#dictionary\n",
    "students={\"Ram\":78,\"Sam\":85,\"Ravi\":66}\n",
    "\n",
    "for name,marks in students.items():   #items()---returns key-value pairs\n",
    "    print(name,\":\",marks)"
   ]
  },
  {
   "cell_type": "code",
   "execution_count": 26,
   "id": "c1d5d8ff-71ce-4eb2-835b-ebaacd8abeca",
   "metadata": {},
   "outputs": [
    {
     "name": "stdout",
     "output_type": "stream",
     "text": [
      "Apple count: 2\n",
      "Index of orange: 3\n"
     ]
    }
   ],
   "source": [
    "#tuple(count & index)\n",
    "fruits=(\"apple\",\"banana\",\"cherry\",\"orange\",\"apple\")\n",
    "\n",
    "#count apple\n",
    "print(\"Apple count:\",fruits.count(\"apple\"))\n",
    "\n",
    "#find index of orange\n",
    "print(\"Index of orange:\",fruits.index(\"orange\"))"
   ]
  },
  {
   "cell_type": "code",
   "execution_count": 27,
   "id": "1adbbcbc-b8a4-4205-b182-ea4fefe9768c",
   "metadata": {},
   "outputs": [
    {
     "name": "stdout",
     "output_type": "stream",
     "text": [
      "Final set: {'blue', 'red'}\n"
     ]
    }
   ],
   "source": [
    "#set(add and remove)\n",
    "colors={\"red\",\"green\"}\n",
    "\n",
    "#add blue\n",
    "colors.add(\"blue\")\n",
    "\n",
    "#remove green\n",
    "colors.remove(\"green\")\n",
    "\n",
    "print(\"Final set:\",colors)"
   ]
  },
  {
   "cell_type": "code",
   "execution_count": null,
   "id": "595baa61-dcbb-450e-9cf2-b0f6a406bfc4",
   "metadata": {},
   "outputs": [],
   "source": []
  }
 ],
 "metadata": {
  "kernelspec": {
   "display_name": "Python 3 (ipykernel)",
   "language": "python",
   "name": "python3"
  },
  "language_info": {
   "codemirror_mode": {
    "name": "ipython",
    "version": 3
   },
   "file_extension": ".py",
   "mimetype": "text/x-python",
   "name": "python",
   "nbconvert_exporter": "python",
   "pygments_lexer": "ipython3",
   "version": "3.12.7"
  }
 },
 "nbformat": 4,
 "nbformat_minor": 5
}
